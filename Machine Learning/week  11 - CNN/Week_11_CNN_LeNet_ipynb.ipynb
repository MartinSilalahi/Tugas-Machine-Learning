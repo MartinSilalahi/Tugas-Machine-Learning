{
  "nbformat": 4,
  "nbformat_minor": 0,
  "metadata": {
    "colab": {
      "name": "Week 11  - CNN LeNet.ipynb.ipynb",
      "provenance": [],
      "collapsed_sections": []
    },
    "kernelspec": {
      "name": "python3",
      "display_name": "Python 3"
    },
    "language_info": {
      "name": "python"
    },
    "widgets": {
      "application/vnd.jupyter.widget-state+json": {
        "8fe84bc89a844966a417042cb6a1f261": {
          "model_module": "@jupyter-widgets/controls",
          "model_name": "HBoxModel",
          "model_module_version": "1.5.0",
          "state": {
            "_view_name": "HBoxView",
            "_dom_classes": [],
            "_model_name": "HBoxModel",
            "_view_module": "@jupyter-widgets/controls",
            "_model_module_version": "1.5.0",
            "_view_count": null,
            "_view_module_version": "1.5.0",
            "box_style": "",
            "layout": "IPY_MODEL_d56f793ffeb6429d905d4be1ba0146c7",
            "_model_module": "@jupyter-widgets/controls",
            "children": [
              "IPY_MODEL_013c23b382b247499e8b85244f53f081",
              "IPY_MODEL_e9f0988b608a4ec89c7dc3896f3001e9",
              "IPY_MODEL_88c8bab05bf74c75bcb45b50e7ccf559"
            ]
          }
        },
        "d56f793ffeb6429d905d4be1ba0146c7": {
          "model_module": "@jupyter-widgets/base",
          "model_name": "LayoutModel",
          "model_module_version": "1.2.0",
          "state": {
            "_view_name": "LayoutView",
            "grid_template_rows": null,
            "right": null,
            "justify_content": null,
            "_view_module": "@jupyter-widgets/base",
            "overflow": null,
            "_model_module_version": "1.2.0",
            "_view_count": null,
            "flex_flow": null,
            "width": null,
            "min_width": null,
            "border": null,
            "align_items": null,
            "bottom": null,
            "_model_module": "@jupyter-widgets/base",
            "top": null,
            "grid_column": null,
            "overflow_y": null,
            "overflow_x": null,
            "grid_auto_flow": null,
            "grid_area": null,
            "grid_template_columns": null,
            "flex": null,
            "_model_name": "LayoutModel",
            "justify_items": null,
            "grid_row": null,
            "max_height": null,
            "align_content": null,
            "visibility": null,
            "align_self": null,
            "height": null,
            "min_height": null,
            "padding": null,
            "grid_auto_rows": null,
            "grid_gap": null,
            "max_width": null,
            "order": null,
            "_view_module_version": "1.2.0",
            "grid_template_areas": null,
            "object_position": null,
            "object_fit": null,
            "grid_auto_columns": null,
            "margin": null,
            "display": null,
            "left": null
          }
        },
        "013c23b382b247499e8b85244f53f081": {
          "model_module": "@jupyter-widgets/controls",
          "model_name": "HTMLModel",
          "model_module_version": "1.5.0",
          "state": {
            "_view_name": "HTMLView",
            "style": "IPY_MODEL_f7aa03e520f04d52801658929ceecf98",
            "_dom_classes": [],
            "description": "",
            "_model_name": "HTMLModel",
            "placeholder": "​",
            "_view_module": "@jupyter-widgets/controls",
            "_model_module_version": "1.5.0",
            "value": "",
            "_view_count": null,
            "_view_module_version": "1.5.0",
            "description_tooltip": null,
            "_model_module": "@jupyter-widgets/controls",
            "layout": "IPY_MODEL_3f0a1404408444dba5c074f73279bfe5"
          }
        },
        "e9f0988b608a4ec89c7dc3896f3001e9": {
          "model_module": "@jupyter-widgets/controls",
          "model_name": "FloatProgressModel",
          "model_module_version": "1.5.0",
          "state": {
            "_view_name": "ProgressView",
            "style": "IPY_MODEL_ca26b9c26efc422c8556865b9de8e9ae",
            "_dom_classes": [],
            "description": "",
            "_model_name": "FloatProgressModel",
            "bar_style": "success",
            "max": 26421880,
            "_view_module": "@jupyter-widgets/controls",
            "_model_module_version": "1.5.0",
            "value": 26421880,
            "_view_count": null,
            "_view_module_version": "1.5.0",
            "orientation": "horizontal",
            "min": 0,
            "description_tooltip": null,
            "_model_module": "@jupyter-widgets/controls",
            "layout": "IPY_MODEL_8e75782bfb0b422d8845ce8d286a119f"
          }
        },
        "88c8bab05bf74c75bcb45b50e7ccf559": {
          "model_module": "@jupyter-widgets/controls",
          "model_name": "HTMLModel",
          "model_module_version": "1.5.0",
          "state": {
            "_view_name": "HTMLView",
            "style": "IPY_MODEL_816877dfed914d15a7d68b3525c9b3f6",
            "_dom_classes": [],
            "description": "",
            "_model_name": "HTMLModel",
            "placeholder": "​",
            "_view_module": "@jupyter-widgets/controls",
            "_model_module_version": "1.5.0",
            "value": " 26422272/? [00:01&lt;00:00, 26521896.85it/s]",
            "_view_count": null,
            "_view_module_version": "1.5.0",
            "description_tooltip": null,
            "_model_module": "@jupyter-widgets/controls",
            "layout": "IPY_MODEL_a96301889efc420b935068f1a0a98215"
          }
        },
        "f7aa03e520f04d52801658929ceecf98": {
          "model_module": "@jupyter-widgets/controls",
          "model_name": "DescriptionStyleModel",
          "model_module_version": "1.5.0",
          "state": {
            "_view_name": "StyleView",
            "_model_name": "DescriptionStyleModel",
            "description_width": "",
            "_view_module": "@jupyter-widgets/base",
            "_model_module_version": "1.5.0",
            "_view_count": null,
            "_view_module_version": "1.2.0",
            "_model_module": "@jupyter-widgets/controls"
          }
        },
        "3f0a1404408444dba5c074f73279bfe5": {
          "model_module": "@jupyter-widgets/base",
          "model_name": "LayoutModel",
          "model_module_version": "1.2.0",
          "state": {
            "_view_name": "LayoutView",
            "grid_template_rows": null,
            "right": null,
            "justify_content": null,
            "_view_module": "@jupyter-widgets/base",
            "overflow": null,
            "_model_module_version": "1.2.0",
            "_view_count": null,
            "flex_flow": null,
            "width": null,
            "min_width": null,
            "border": null,
            "align_items": null,
            "bottom": null,
            "_model_module": "@jupyter-widgets/base",
            "top": null,
            "grid_column": null,
            "overflow_y": null,
            "overflow_x": null,
            "grid_auto_flow": null,
            "grid_area": null,
            "grid_template_columns": null,
            "flex": null,
            "_model_name": "LayoutModel",
            "justify_items": null,
            "grid_row": null,
            "max_height": null,
            "align_content": null,
            "visibility": null,
            "align_self": null,
            "height": null,
            "min_height": null,
            "padding": null,
            "grid_auto_rows": null,
            "grid_gap": null,
            "max_width": null,
            "order": null,
            "_view_module_version": "1.2.0",
            "grid_template_areas": null,
            "object_position": null,
            "object_fit": null,
            "grid_auto_columns": null,
            "margin": null,
            "display": null,
            "left": null
          }
        },
        "ca26b9c26efc422c8556865b9de8e9ae": {
          "model_module": "@jupyter-widgets/controls",
          "model_name": "ProgressStyleModel",
          "model_module_version": "1.5.0",
          "state": {
            "_view_name": "StyleView",
            "_model_name": "ProgressStyleModel",
            "description_width": "",
            "_view_module": "@jupyter-widgets/base",
            "_model_module_version": "1.5.0",
            "_view_count": null,
            "_view_module_version": "1.2.0",
            "bar_color": null,
            "_model_module": "@jupyter-widgets/controls"
          }
        },
        "8e75782bfb0b422d8845ce8d286a119f": {
          "model_module": "@jupyter-widgets/base",
          "model_name": "LayoutModel",
          "model_module_version": "1.2.0",
          "state": {
            "_view_name": "LayoutView",
            "grid_template_rows": null,
            "right": null,
            "justify_content": null,
            "_view_module": "@jupyter-widgets/base",
            "overflow": null,
            "_model_module_version": "1.2.0",
            "_view_count": null,
            "flex_flow": null,
            "width": null,
            "min_width": null,
            "border": null,
            "align_items": null,
            "bottom": null,
            "_model_module": "@jupyter-widgets/base",
            "top": null,
            "grid_column": null,
            "overflow_y": null,
            "overflow_x": null,
            "grid_auto_flow": null,
            "grid_area": null,
            "grid_template_columns": null,
            "flex": null,
            "_model_name": "LayoutModel",
            "justify_items": null,
            "grid_row": null,
            "max_height": null,
            "align_content": null,
            "visibility": null,
            "align_self": null,
            "height": null,
            "min_height": null,
            "padding": null,
            "grid_auto_rows": null,
            "grid_gap": null,
            "max_width": null,
            "order": null,
            "_view_module_version": "1.2.0",
            "grid_template_areas": null,
            "object_position": null,
            "object_fit": null,
            "grid_auto_columns": null,
            "margin": null,
            "display": null,
            "left": null
          }
        },
        "816877dfed914d15a7d68b3525c9b3f6": {
          "model_module": "@jupyter-widgets/controls",
          "model_name": "DescriptionStyleModel",
          "model_module_version": "1.5.0",
          "state": {
            "_view_name": "StyleView",
            "_model_name": "DescriptionStyleModel",
            "description_width": "",
            "_view_module": "@jupyter-widgets/base",
            "_model_module_version": "1.5.0",
            "_view_count": null,
            "_view_module_version": "1.2.0",
            "_model_module": "@jupyter-widgets/controls"
          }
        },
        "a96301889efc420b935068f1a0a98215": {
          "model_module": "@jupyter-widgets/base",
          "model_name": "LayoutModel",
          "model_module_version": "1.2.0",
          "state": {
            "_view_name": "LayoutView",
            "grid_template_rows": null,
            "right": null,
            "justify_content": null,
            "_view_module": "@jupyter-widgets/base",
            "overflow": null,
            "_model_module_version": "1.2.0",
            "_view_count": null,
            "flex_flow": null,
            "width": null,
            "min_width": null,
            "border": null,
            "align_items": null,
            "bottom": null,
            "_model_module": "@jupyter-widgets/base",
            "top": null,
            "grid_column": null,
            "overflow_y": null,
            "overflow_x": null,
            "grid_auto_flow": null,
            "grid_area": null,
            "grid_template_columns": null,
            "flex": null,
            "_model_name": "LayoutModel",
            "justify_items": null,
            "grid_row": null,
            "max_height": null,
            "align_content": null,
            "visibility": null,
            "align_self": null,
            "height": null,
            "min_height": null,
            "padding": null,
            "grid_auto_rows": null,
            "grid_gap": null,
            "max_width": null,
            "order": null,
            "_view_module_version": "1.2.0",
            "grid_template_areas": null,
            "object_position": null,
            "object_fit": null,
            "grid_auto_columns": null,
            "margin": null,
            "display": null,
            "left": null
          }
        },
        "21e8f99476a74459954b45242ac90b28": {
          "model_module": "@jupyter-widgets/controls",
          "model_name": "HBoxModel",
          "model_module_version": "1.5.0",
          "state": {
            "_view_name": "HBoxView",
            "_dom_classes": [],
            "_model_name": "HBoxModel",
            "_view_module": "@jupyter-widgets/controls",
            "_model_module_version": "1.5.0",
            "_view_count": null,
            "_view_module_version": "1.5.0",
            "box_style": "",
            "layout": "IPY_MODEL_1eb21e33d43546ab8e2d9c4f3d3363ff",
            "_model_module": "@jupyter-widgets/controls",
            "children": [
              "IPY_MODEL_89d4c7a1fa8041dba54f98896cc8b5c8",
              "IPY_MODEL_4af6fd90a9e8428eb382bd981333fa6b",
              "IPY_MODEL_c8f33856456a4d969714af8fc7ba9a31"
            ]
          }
        },
        "1eb21e33d43546ab8e2d9c4f3d3363ff": {
          "model_module": "@jupyter-widgets/base",
          "model_name": "LayoutModel",
          "model_module_version": "1.2.0",
          "state": {
            "_view_name": "LayoutView",
            "grid_template_rows": null,
            "right": null,
            "justify_content": null,
            "_view_module": "@jupyter-widgets/base",
            "overflow": null,
            "_model_module_version": "1.2.0",
            "_view_count": null,
            "flex_flow": null,
            "width": null,
            "min_width": null,
            "border": null,
            "align_items": null,
            "bottom": null,
            "_model_module": "@jupyter-widgets/base",
            "top": null,
            "grid_column": null,
            "overflow_y": null,
            "overflow_x": null,
            "grid_auto_flow": null,
            "grid_area": null,
            "grid_template_columns": null,
            "flex": null,
            "_model_name": "LayoutModel",
            "justify_items": null,
            "grid_row": null,
            "max_height": null,
            "align_content": null,
            "visibility": null,
            "align_self": null,
            "height": null,
            "min_height": null,
            "padding": null,
            "grid_auto_rows": null,
            "grid_gap": null,
            "max_width": null,
            "order": null,
            "_view_module_version": "1.2.0",
            "grid_template_areas": null,
            "object_position": null,
            "object_fit": null,
            "grid_auto_columns": null,
            "margin": null,
            "display": null,
            "left": null
          }
        },
        "89d4c7a1fa8041dba54f98896cc8b5c8": {
          "model_module": "@jupyter-widgets/controls",
          "model_name": "HTMLModel",
          "model_module_version": "1.5.0",
          "state": {
            "_view_name": "HTMLView",
            "style": "IPY_MODEL_192b779a3234406dbaa2925732076514",
            "_dom_classes": [],
            "description": "",
            "_model_name": "HTMLModel",
            "placeholder": "​",
            "_view_module": "@jupyter-widgets/controls",
            "_model_module_version": "1.5.0",
            "value": "",
            "_view_count": null,
            "_view_module_version": "1.5.0",
            "description_tooltip": null,
            "_model_module": "@jupyter-widgets/controls",
            "layout": "IPY_MODEL_46642147c4dc426a85d7d96491da74c0"
          }
        },
        "4af6fd90a9e8428eb382bd981333fa6b": {
          "model_module": "@jupyter-widgets/controls",
          "model_name": "FloatProgressModel",
          "model_module_version": "1.5.0",
          "state": {
            "_view_name": "ProgressView",
            "style": "IPY_MODEL_3407a0339712466dbe0d0ab1dca8d984",
            "_dom_classes": [],
            "description": "",
            "_model_name": "FloatProgressModel",
            "bar_style": "success",
            "max": 29515,
            "_view_module": "@jupyter-widgets/controls",
            "_model_module_version": "1.5.0",
            "value": 29515,
            "_view_count": null,
            "_view_module_version": "1.5.0",
            "orientation": "horizontal",
            "min": 0,
            "description_tooltip": null,
            "_model_module": "@jupyter-widgets/controls",
            "layout": "IPY_MODEL_9b65c000612e474f9710d733294bc75a"
          }
        },
        "c8f33856456a4d969714af8fc7ba9a31": {
          "model_module": "@jupyter-widgets/controls",
          "model_name": "HTMLModel",
          "model_module_version": "1.5.0",
          "state": {
            "_view_name": "HTMLView",
            "style": "IPY_MODEL_625de8df928f441d85407ac48655b017",
            "_dom_classes": [],
            "description": "",
            "_model_name": "HTMLModel",
            "placeholder": "​",
            "_view_module": "@jupyter-widgets/controls",
            "_model_module_version": "1.5.0",
            "value": " 29696/? [00:00&lt;00:00, 142738.72it/s]",
            "_view_count": null,
            "_view_module_version": "1.5.0",
            "description_tooltip": null,
            "_model_module": "@jupyter-widgets/controls",
            "layout": "IPY_MODEL_d62f62f9121846a691b2fcc49bfe057b"
          }
        },
        "192b779a3234406dbaa2925732076514": {
          "model_module": "@jupyter-widgets/controls",
          "model_name": "DescriptionStyleModel",
          "model_module_version": "1.5.0",
          "state": {
            "_view_name": "StyleView",
            "_model_name": "DescriptionStyleModel",
            "description_width": "",
            "_view_module": "@jupyter-widgets/base",
            "_model_module_version": "1.5.0",
            "_view_count": null,
            "_view_module_version": "1.2.0",
            "_model_module": "@jupyter-widgets/controls"
          }
        },
        "46642147c4dc426a85d7d96491da74c0": {
          "model_module": "@jupyter-widgets/base",
          "model_name": "LayoutModel",
          "model_module_version": "1.2.0",
          "state": {
            "_view_name": "LayoutView",
            "grid_template_rows": null,
            "right": null,
            "justify_content": null,
            "_view_module": "@jupyter-widgets/base",
            "overflow": null,
            "_model_module_version": "1.2.0",
            "_view_count": null,
            "flex_flow": null,
            "width": null,
            "min_width": null,
            "border": null,
            "align_items": null,
            "bottom": null,
            "_model_module": "@jupyter-widgets/base",
            "top": null,
            "grid_column": null,
            "overflow_y": null,
            "overflow_x": null,
            "grid_auto_flow": null,
            "grid_area": null,
            "grid_template_columns": null,
            "flex": null,
            "_model_name": "LayoutModel",
            "justify_items": null,
            "grid_row": null,
            "max_height": null,
            "align_content": null,
            "visibility": null,
            "align_self": null,
            "height": null,
            "min_height": null,
            "padding": null,
            "grid_auto_rows": null,
            "grid_gap": null,
            "max_width": null,
            "order": null,
            "_view_module_version": "1.2.0",
            "grid_template_areas": null,
            "object_position": null,
            "object_fit": null,
            "grid_auto_columns": null,
            "margin": null,
            "display": null,
            "left": null
          }
        },
        "3407a0339712466dbe0d0ab1dca8d984": {
          "model_module": "@jupyter-widgets/controls",
          "model_name": "ProgressStyleModel",
          "model_module_version": "1.5.0",
          "state": {
            "_view_name": "StyleView",
            "_model_name": "ProgressStyleModel",
            "description_width": "",
            "_view_module": "@jupyter-widgets/base",
            "_model_module_version": "1.5.0",
            "_view_count": null,
            "_view_module_version": "1.2.0",
            "bar_color": null,
            "_model_module": "@jupyter-widgets/controls"
          }
        },
        "9b65c000612e474f9710d733294bc75a": {
          "model_module": "@jupyter-widgets/base",
          "model_name": "LayoutModel",
          "model_module_version": "1.2.0",
          "state": {
            "_view_name": "LayoutView",
            "grid_template_rows": null,
            "right": null,
            "justify_content": null,
            "_view_module": "@jupyter-widgets/base",
            "overflow": null,
            "_model_module_version": "1.2.0",
            "_view_count": null,
            "flex_flow": null,
            "width": null,
            "min_width": null,
            "border": null,
            "align_items": null,
            "bottom": null,
            "_model_module": "@jupyter-widgets/base",
            "top": null,
            "grid_column": null,
            "overflow_y": null,
            "overflow_x": null,
            "grid_auto_flow": null,
            "grid_area": null,
            "grid_template_columns": null,
            "flex": null,
            "_model_name": "LayoutModel",
            "justify_items": null,
            "grid_row": null,
            "max_height": null,
            "align_content": null,
            "visibility": null,
            "align_self": null,
            "height": null,
            "min_height": null,
            "padding": null,
            "grid_auto_rows": null,
            "grid_gap": null,
            "max_width": null,
            "order": null,
            "_view_module_version": "1.2.0",
            "grid_template_areas": null,
            "object_position": null,
            "object_fit": null,
            "grid_auto_columns": null,
            "margin": null,
            "display": null,
            "left": null
          }
        },
        "625de8df928f441d85407ac48655b017": {
          "model_module": "@jupyter-widgets/controls",
          "model_name": "DescriptionStyleModel",
          "model_module_version": "1.5.0",
          "state": {
            "_view_name": "StyleView",
            "_model_name": "DescriptionStyleModel",
            "description_width": "",
            "_view_module": "@jupyter-widgets/base",
            "_model_module_version": "1.5.0",
            "_view_count": null,
            "_view_module_version": "1.2.0",
            "_model_module": "@jupyter-widgets/controls"
          }
        },
        "d62f62f9121846a691b2fcc49bfe057b": {
          "model_module": "@jupyter-widgets/base",
          "model_name": "LayoutModel",
          "model_module_version": "1.2.0",
          "state": {
            "_view_name": "LayoutView",
            "grid_template_rows": null,
            "right": null,
            "justify_content": null,
            "_view_module": "@jupyter-widgets/base",
            "overflow": null,
            "_model_module_version": "1.2.0",
            "_view_count": null,
            "flex_flow": null,
            "width": null,
            "min_width": null,
            "border": null,
            "align_items": null,
            "bottom": null,
            "_model_module": "@jupyter-widgets/base",
            "top": null,
            "grid_column": null,
            "overflow_y": null,
            "overflow_x": null,
            "grid_auto_flow": null,
            "grid_area": null,
            "grid_template_columns": null,
            "flex": null,
            "_model_name": "LayoutModel",
            "justify_items": null,
            "grid_row": null,
            "max_height": null,
            "align_content": null,
            "visibility": null,
            "align_self": null,
            "height": null,
            "min_height": null,
            "padding": null,
            "grid_auto_rows": null,
            "grid_gap": null,
            "max_width": null,
            "order": null,
            "_view_module_version": "1.2.0",
            "grid_template_areas": null,
            "object_position": null,
            "object_fit": null,
            "grid_auto_columns": null,
            "margin": null,
            "display": null,
            "left": null
          }
        },
        "90d15ff7f7184236984310b987f87491": {
          "model_module": "@jupyter-widgets/controls",
          "model_name": "HBoxModel",
          "model_module_version": "1.5.0",
          "state": {
            "_view_name": "HBoxView",
            "_dom_classes": [],
            "_model_name": "HBoxModel",
            "_view_module": "@jupyter-widgets/controls",
            "_model_module_version": "1.5.0",
            "_view_count": null,
            "_view_module_version": "1.5.0",
            "box_style": "",
            "layout": "IPY_MODEL_52618298ab1b47e39c8e6f1c7203789b",
            "_model_module": "@jupyter-widgets/controls",
            "children": [
              "IPY_MODEL_bdd2d8ba573645cdb4265dfcd2998ba1",
              "IPY_MODEL_5e1e903f0529431581a33f523dc1f0ac",
              "IPY_MODEL_2fa99fd95a66489684e20a1380a4f79b"
            ]
          }
        },
        "52618298ab1b47e39c8e6f1c7203789b": {
          "model_module": "@jupyter-widgets/base",
          "model_name": "LayoutModel",
          "model_module_version": "1.2.0",
          "state": {
            "_view_name": "LayoutView",
            "grid_template_rows": null,
            "right": null,
            "justify_content": null,
            "_view_module": "@jupyter-widgets/base",
            "overflow": null,
            "_model_module_version": "1.2.0",
            "_view_count": null,
            "flex_flow": null,
            "width": null,
            "min_width": null,
            "border": null,
            "align_items": null,
            "bottom": null,
            "_model_module": "@jupyter-widgets/base",
            "top": null,
            "grid_column": null,
            "overflow_y": null,
            "overflow_x": null,
            "grid_auto_flow": null,
            "grid_area": null,
            "grid_template_columns": null,
            "flex": null,
            "_model_name": "LayoutModel",
            "justify_items": null,
            "grid_row": null,
            "max_height": null,
            "align_content": null,
            "visibility": null,
            "align_self": null,
            "height": null,
            "min_height": null,
            "padding": null,
            "grid_auto_rows": null,
            "grid_gap": null,
            "max_width": null,
            "order": null,
            "_view_module_version": "1.2.0",
            "grid_template_areas": null,
            "object_position": null,
            "object_fit": null,
            "grid_auto_columns": null,
            "margin": null,
            "display": null,
            "left": null
          }
        },
        "bdd2d8ba573645cdb4265dfcd2998ba1": {
          "model_module": "@jupyter-widgets/controls",
          "model_name": "HTMLModel",
          "model_module_version": "1.5.0",
          "state": {
            "_view_name": "HTMLView",
            "style": "IPY_MODEL_3160a1c03bce486898ca568baa419b7a",
            "_dom_classes": [],
            "description": "",
            "_model_name": "HTMLModel",
            "placeholder": "​",
            "_view_module": "@jupyter-widgets/controls",
            "_model_module_version": "1.5.0",
            "value": "",
            "_view_count": null,
            "_view_module_version": "1.5.0",
            "description_tooltip": null,
            "_model_module": "@jupyter-widgets/controls",
            "layout": "IPY_MODEL_7d4e90b2e8e54f60aec11040ef5dfd93"
          }
        },
        "5e1e903f0529431581a33f523dc1f0ac": {
          "model_module": "@jupyter-widgets/controls",
          "model_name": "FloatProgressModel",
          "model_module_version": "1.5.0",
          "state": {
            "_view_name": "ProgressView",
            "style": "IPY_MODEL_d494e6b499f74948ae1f9e0d9220e120",
            "_dom_classes": [],
            "description": "",
            "_model_name": "FloatProgressModel",
            "bar_style": "success",
            "max": 4422102,
            "_view_module": "@jupyter-widgets/controls",
            "_model_module_version": "1.5.0",
            "value": 4422102,
            "_view_count": null,
            "_view_module_version": "1.5.0",
            "orientation": "horizontal",
            "min": 0,
            "description_tooltip": null,
            "_model_module": "@jupyter-widgets/controls",
            "layout": "IPY_MODEL_518bfda584a6481cb61849d9fbe50eb6"
          }
        },
        "2fa99fd95a66489684e20a1380a4f79b": {
          "model_module": "@jupyter-widgets/controls",
          "model_name": "HTMLModel",
          "model_module_version": "1.5.0",
          "state": {
            "_view_name": "HTMLView",
            "style": "IPY_MODEL_360acb41c4394a0e8c0e853bde15ea4b",
            "_dom_classes": [],
            "description": "",
            "_model_name": "HTMLModel",
            "placeholder": "​",
            "_view_module": "@jupyter-widgets/controls",
            "_model_module_version": "1.5.0",
            "value": " 4422656/? [00:00&lt;00:00, 6166138.12it/s]",
            "_view_count": null,
            "_view_module_version": "1.5.0",
            "description_tooltip": null,
            "_model_module": "@jupyter-widgets/controls",
            "layout": "IPY_MODEL_cf2b05a638a74ccab7c63cd5cf7c1389"
          }
        },
        "3160a1c03bce486898ca568baa419b7a": {
          "model_module": "@jupyter-widgets/controls",
          "model_name": "DescriptionStyleModel",
          "model_module_version": "1.5.0",
          "state": {
            "_view_name": "StyleView",
            "_model_name": "DescriptionStyleModel",
            "description_width": "",
            "_view_module": "@jupyter-widgets/base",
            "_model_module_version": "1.5.0",
            "_view_count": null,
            "_view_module_version": "1.2.0",
            "_model_module": "@jupyter-widgets/controls"
          }
        },
        "7d4e90b2e8e54f60aec11040ef5dfd93": {
          "model_module": "@jupyter-widgets/base",
          "model_name": "LayoutModel",
          "model_module_version": "1.2.0",
          "state": {
            "_view_name": "LayoutView",
            "grid_template_rows": null,
            "right": null,
            "justify_content": null,
            "_view_module": "@jupyter-widgets/base",
            "overflow": null,
            "_model_module_version": "1.2.0",
            "_view_count": null,
            "flex_flow": null,
            "width": null,
            "min_width": null,
            "border": null,
            "align_items": null,
            "bottom": null,
            "_model_module": "@jupyter-widgets/base",
            "top": null,
            "grid_column": null,
            "overflow_y": null,
            "overflow_x": null,
            "grid_auto_flow": null,
            "grid_area": null,
            "grid_template_columns": null,
            "flex": null,
            "_model_name": "LayoutModel",
            "justify_items": null,
            "grid_row": null,
            "max_height": null,
            "align_content": null,
            "visibility": null,
            "align_self": null,
            "height": null,
            "min_height": null,
            "padding": null,
            "grid_auto_rows": null,
            "grid_gap": null,
            "max_width": null,
            "order": null,
            "_view_module_version": "1.2.0",
            "grid_template_areas": null,
            "object_position": null,
            "object_fit": null,
            "grid_auto_columns": null,
            "margin": null,
            "display": null,
            "left": null
          }
        },
        "d494e6b499f74948ae1f9e0d9220e120": {
          "model_module": "@jupyter-widgets/controls",
          "model_name": "ProgressStyleModel",
          "model_module_version": "1.5.0",
          "state": {
            "_view_name": "StyleView",
            "_model_name": "ProgressStyleModel",
            "description_width": "",
            "_view_module": "@jupyter-widgets/base",
            "_model_module_version": "1.5.0",
            "_view_count": null,
            "_view_module_version": "1.2.0",
            "bar_color": null,
            "_model_module": "@jupyter-widgets/controls"
          }
        },
        "518bfda584a6481cb61849d9fbe50eb6": {
          "model_module": "@jupyter-widgets/base",
          "model_name": "LayoutModel",
          "model_module_version": "1.2.0",
          "state": {
            "_view_name": "LayoutView",
            "grid_template_rows": null,
            "right": null,
            "justify_content": null,
            "_view_module": "@jupyter-widgets/base",
            "overflow": null,
            "_model_module_version": "1.2.0",
            "_view_count": null,
            "flex_flow": null,
            "width": null,
            "min_width": null,
            "border": null,
            "align_items": null,
            "bottom": null,
            "_model_module": "@jupyter-widgets/base",
            "top": null,
            "grid_column": null,
            "overflow_y": null,
            "overflow_x": null,
            "grid_auto_flow": null,
            "grid_area": null,
            "grid_template_columns": null,
            "flex": null,
            "_model_name": "LayoutModel",
            "justify_items": null,
            "grid_row": null,
            "max_height": null,
            "align_content": null,
            "visibility": null,
            "align_self": null,
            "height": null,
            "min_height": null,
            "padding": null,
            "grid_auto_rows": null,
            "grid_gap": null,
            "max_width": null,
            "order": null,
            "_view_module_version": "1.2.0",
            "grid_template_areas": null,
            "object_position": null,
            "object_fit": null,
            "grid_auto_columns": null,
            "margin": null,
            "display": null,
            "left": null
          }
        },
        "360acb41c4394a0e8c0e853bde15ea4b": {
          "model_module": "@jupyter-widgets/controls",
          "model_name": "DescriptionStyleModel",
          "model_module_version": "1.5.0",
          "state": {
            "_view_name": "StyleView",
            "_model_name": "DescriptionStyleModel",
            "description_width": "",
            "_view_module": "@jupyter-widgets/base",
            "_model_module_version": "1.5.0",
            "_view_count": null,
            "_view_module_version": "1.2.0",
            "_model_module": "@jupyter-widgets/controls"
          }
        },
        "cf2b05a638a74ccab7c63cd5cf7c1389": {
          "model_module": "@jupyter-widgets/base",
          "model_name": "LayoutModel",
          "model_module_version": "1.2.0",
          "state": {
            "_view_name": "LayoutView",
            "grid_template_rows": null,
            "right": null,
            "justify_content": null,
            "_view_module": "@jupyter-widgets/base",
            "overflow": null,
            "_model_module_version": "1.2.0",
            "_view_count": null,
            "flex_flow": null,
            "width": null,
            "min_width": null,
            "border": null,
            "align_items": null,
            "bottom": null,
            "_model_module": "@jupyter-widgets/base",
            "top": null,
            "grid_column": null,
            "overflow_y": null,
            "overflow_x": null,
            "grid_auto_flow": null,
            "grid_area": null,
            "grid_template_columns": null,
            "flex": null,
            "_model_name": "LayoutModel",
            "justify_items": null,
            "grid_row": null,
            "max_height": null,
            "align_content": null,
            "visibility": null,
            "align_self": null,
            "height": null,
            "min_height": null,
            "padding": null,
            "grid_auto_rows": null,
            "grid_gap": null,
            "max_width": null,
            "order": null,
            "_view_module_version": "1.2.0",
            "grid_template_areas": null,
            "object_position": null,
            "object_fit": null,
            "grid_auto_columns": null,
            "margin": null,
            "display": null,
            "left": null
          }
        },
        "2a795ab6083b49af8f2097e632fbeb67": {
          "model_module": "@jupyter-widgets/controls",
          "model_name": "HBoxModel",
          "model_module_version": "1.5.0",
          "state": {
            "_view_name": "HBoxView",
            "_dom_classes": [],
            "_model_name": "HBoxModel",
            "_view_module": "@jupyter-widgets/controls",
            "_model_module_version": "1.5.0",
            "_view_count": null,
            "_view_module_version": "1.5.0",
            "box_style": "",
            "layout": "IPY_MODEL_5c27a573c93c4f81b65044a1494b823c",
            "_model_module": "@jupyter-widgets/controls",
            "children": [
              "IPY_MODEL_4f08598627ce4562aebc260384f04545",
              "IPY_MODEL_e573f05281bd46ba9c335bea4d680d08",
              "IPY_MODEL_7da15472c9bc4be7a048bb35ae924560"
            ]
          }
        },
        "5c27a573c93c4f81b65044a1494b823c": {
          "model_module": "@jupyter-widgets/base",
          "model_name": "LayoutModel",
          "model_module_version": "1.2.0",
          "state": {
            "_view_name": "LayoutView",
            "grid_template_rows": null,
            "right": null,
            "justify_content": null,
            "_view_module": "@jupyter-widgets/base",
            "overflow": null,
            "_model_module_version": "1.2.0",
            "_view_count": null,
            "flex_flow": null,
            "width": null,
            "min_width": null,
            "border": null,
            "align_items": null,
            "bottom": null,
            "_model_module": "@jupyter-widgets/base",
            "top": null,
            "grid_column": null,
            "overflow_y": null,
            "overflow_x": null,
            "grid_auto_flow": null,
            "grid_area": null,
            "grid_template_columns": null,
            "flex": null,
            "_model_name": "LayoutModel",
            "justify_items": null,
            "grid_row": null,
            "max_height": null,
            "align_content": null,
            "visibility": null,
            "align_self": null,
            "height": null,
            "min_height": null,
            "padding": null,
            "grid_auto_rows": null,
            "grid_gap": null,
            "max_width": null,
            "order": null,
            "_view_module_version": "1.2.0",
            "grid_template_areas": null,
            "object_position": null,
            "object_fit": null,
            "grid_auto_columns": null,
            "margin": null,
            "display": null,
            "left": null
          }
        },
        "4f08598627ce4562aebc260384f04545": {
          "model_module": "@jupyter-widgets/controls",
          "model_name": "HTMLModel",
          "model_module_version": "1.5.0",
          "state": {
            "_view_name": "HTMLView",
            "style": "IPY_MODEL_bdc81ed3447e456ebbf13b0ab13f63dd",
            "_dom_classes": [],
            "description": "",
            "_model_name": "HTMLModel",
            "placeholder": "​",
            "_view_module": "@jupyter-widgets/controls",
            "_model_module_version": "1.5.0",
            "value": "",
            "_view_count": null,
            "_view_module_version": "1.5.0",
            "description_tooltip": null,
            "_model_module": "@jupyter-widgets/controls",
            "layout": "IPY_MODEL_14314417e15948728e50e8febc92edb4"
          }
        },
        "e573f05281bd46ba9c335bea4d680d08": {
          "model_module": "@jupyter-widgets/controls",
          "model_name": "FloatProgressModel",
          "model_module_version": "1.5.0",
          "state": {
            "_view_name": "ProgressView",
            "style": "IPY_MODEL_956a429a763a4b278a6ccdaa42d78645",
            "_dom_classes": [],
            "description": "",
            "_model_name": "FloatProgressModel",
            "bar_style": "success",
            "max": 5148,
            "_view_module": "@jupyter-widgets/controls",
            "_model_module_version": "1.5.0",
            "value": 5148,
            "_view_count": null,
            "_view_module_version": "1.5.0",
            "orientation": "horizontal",
            "min": 0,
            "description_tooltip": null,
            "_model_module": "@jupyter-widgets/controls",
            "layout": "IPY_MODEL_4e0a5e684ccc4cc6bff5b55612d0cf92"
          }
        },
        "7da15472c9bc4be7a048bb35ae924560": {
          "model_module": "@jupyter-widgets/controls",
          "model_name": "HTMLModel",
          "model_module_version": "1.5.0",
          "state": {
            "_view_name": "HTMLView",
            "style": "IPY_MODEL_4733211d926b46fb946a3752044d2683",
            "_dom_classes": [],
            "description": "",
            "_model_name": "HTMLModel",
            "placeholder": "​",
            "_view_module": "@jupyter-widgets/controls",
            "_model_module_version": "1.5.0",
            "value": " 6144/? [00:00&lt;00:00, 145173.81it/s]",
            "_view_count": null,
            "_view_module_version": "1.5.0",
            "description_tooltip": null,
            "_model_module": "@jupyter-widgets/controls",
            "layout": "IPY_MODEL_f23a6a4b77d643c88bebdbbf0a351bf2"
          }
        },
        "bdc81ed3447e456ebbf13b0ab13f63dd": {
          "model_module": "@jupyter-widgets/controls",
          "model_name": "DescriptionStyleModel",
          "model_module_version": "1.5.0",
          "state": {
            "_view_name": "StyleView",
            "_model_name": "DescriptionStyleModel",
            "description_width": "",
            "_view_module": "@jupyter-widgets/base",
            "_model_module_version": "1.5.0",
            "_view_count": null,
            "_view_module_version": "1.2.0",
            "_model_module": "@jupyter-widgets/controls"
          }
        },
        "14314417e15948728e50e8febc92edb4": {
          "model_module": "@jupyter-widgets/base",
          "model_name": "LayoutModel",
          "model_module_version": "1.2.0",
          "state": {
            "_view_name": "LayoutView",
            "grid_template_rows": null,
            "right": null,
            "justify_content": null,
            "_view_module": "@jupyter-widgets/base",
            "overflow": null,
            "_model_module_version": "1.2.0",
            "_view_count": null,
            "flex_flow": null,
            "width": null,
            "min_width": null,
            "border": null,
            "align_items": null,
            "bottom": null,
            "_model_module": "@jupyter-widgets/base",
            "top": null,
            "grid_column": null,
            "overflow_y": null,
            "overflow_x": null,
            "grid_auto_flow": null,
            "grid_area": null,
            "grid_template_columns": null,
            "flex": null,
            "_model_name": "LayoutModel",
            "justify_items": null,
            "grid_row": null,
            "max_height": null,
            "align_content": null,
            "visibility": null,
            "align_self": null,
            "height": null,
            "min_height": null,
            "padding": null,
            "grid_auto_rows": null,
            "grid_gap": null,
            "max_width": null,
            "order": null,
            "_view_module_version": "1.2.0",
            "grid_template_areas": null,
            "object_position": null,
            "object_fit": null,
            "grid_auto_columns": null,
            "margin": null,
            "display": null,
            "left": null
          }
        },
        "956a429a763a4b278a6ccdaa42d78645": {
          "model_module": "@jupyter-widgets/controls",
          "model_name": "ProgressStyleModel",
          "model_module_version": "1.5.0",
          "state": {
            "_view_name": "StyleView",
            "_model_name": "ProgressStyleModel",
            "description_width": "",
            "_view_module": "@jupyter-widgets/base",
            "_model_module_version": "1.5.0",
            "_view_count": null,
            "_view_module_version": "1.2.0",
            "bar_color": null,
            "_model_module": "@jupyter-widgets/controls"
          }
        },
        "4e0a5e684ccc4cc6bff5b55612d0cf92": {
          "model_module": "@jupyter-widgets/base",
          "model_name": "LayoutModel",
          "model_module_version": "1.2.0",
          "state": {
            "_view_name": "LayoutView",
            "grid_template_rows": null,
            "right": null,
            "justify_content": null,
            "_view_module": "@jupyter-widgets/base",
            "overflow": null,
            "_model_module_version": "1.2.0",
            "_view_count": null,
            "flex_flow": null,
            "width": null,
            "min_width": null,
            "border": null,
            "align_items": null,
            "bottom": null,
            "_model_module": "@jupyter-widgets/base",
            "top": null,
            "grid_column": null,
            "overflow_y": null,
            "overflow_x": null,
            "grid_auto_flow": null,
            "grid_area": null,
            "grid_template_columns": null,
            "flex": null,
            "_model_name": "LayoutModel",
            "justify_items": null,
            "grid_row": null,
            "max_height": null,
            "align_content": null,
            "visibility": null,
            "align_self": null,
            "height": null,
            "min_height": null,
            "padding": null,
            "grid_auto_rows": null,
            "grid_gap": null,
            "max_width": null,
            "order": null,
            "_view_module_version": "1.2.0",
            "grid_template_areas": null,
            "object_position": null,
            "object_fit": null,
            "grid_auto_columns": null,
            "margin": null,
            "display": null,
            "left": null
          }
        },
        "4733211d926b46fb946a3752044d2683": {
          "model_module": "@jupyter-widgets/controls",
          "model_name": "DescriptionStyleModel",
          "model_module_version": "1.5.0",
          "state": {
            "_view_name": "StyleView",
            "_model_name": "DescriptionStyleModel",
            "description_width": "",
            "_view_module": "@jupyter-widgets/base",
            "_model_module_version": "1.5.0",
            "_view_count": null,
            "_view_module_version": "1.2.0",
            "_model_module": "@jupyter-widgets/controls"
          }
        },
        "f23a6a4b77d643c88bebdbbf0a351bf2": {
          "model_module": "@jupyter-widgets/base",
          "model_name": "LayoutModel",
          "model_module_version": "1.2.0",
          "state": {
            "_view_name": "LayoutView",
            "grid_template_rows": null,
            "right": null,
            "justify_content": null,
            "_view_module": "@jupyter-widgets/base",
            "overflow": null,
            "_model_module_version": "1.2.0",
            "_view_count": null,
            "flex_flow": null,
            "width": null,
            "min_width": null,
            "border": null,
            "align_items": null,
            "bottom": null,
            "_model_module": "@jupyter-widgets/base",
            "top": null,
            "grid_column": null,
            "overflow_y": null,
            "overflow_x": null,
            "grid_auto_flow": null,
            "grid_area": null,
            "grid_template_columns": null,
            "flex": null,
            "_model_name": "LayoutModel",
            "justify_items": null,
            "grid_row": null,
            "max_height": null,
            "align_content": null,
            "visibility": null,
            "align_self": null,
            "height": null,
            "min_height": null,
            "padding": null,
            "grid_auto_rows": null,
            "grid_gap": null,
            "max_width": null,
            "order": null,
            "_view_module_version": "1.2.0",
            "grid_template_areas": null,
            "object_position": null,
            "object_fit": null,
            "grid_auto_columns": null,
            "margin": null,
            "display": null,
            "left": null
          }
        }
      }
    }
  },
  "cells": [
    {
      "cell_type": "code",
      "execution_count": 1,
      "metadata": {
        "colab": {
          "base_uri": "https://localhost:8080/",
          "height": 1000
        },
        "id": "RtTEBRqctLly",
        "outputId": "eecc19e9-2213-42df-a659-8a80b00e30cd"
      },
      "outputs": [
        {
          "output_type": "stream",
          "name": "stdout",
          "text": [
            "Collecting d2l\n",
            "  Downloading d2l-0.17.3-py3-none-any.whl (82 kB)\n",
            "\u001b[K     |████████████████████████████████| 82 kB 305 kB/s \n",
            "\u001b[?25hCollecting requests==2.25.1\n",
            "  Downloading requests-2.25.1-py2.py3-none-any.whl (61 kB)\n",
            "\u001b[K     |████████████████████████████████| 61 kB 5.2 MB/s \n",
            "\u001b[?25hCollecting pandas==1.2.2\n",
            "  Downloading pandas-1.2.2-cp37-cp37m-manylinux1_x86_64.whl (9.9 MB)\n",
            "\u001b[K     |████████████████████████████████| 9.9 MB 19.3 MB/s \n",
            "\u001b[?25hCollecting matplotlib==3.3.3\n",
            "  Downloading matplotlib-3.3.3-cp37-cp37m-manylinux1_x86_64.whl (11.6 MB)\n",
            "\u001b[K     |████████████████████████████████| 11.6 MB 26.1 MB/s \n",
            "\u001b[?25hCollecting numpy==1.18.5\n",
            "  Downloading numpy-1.18.5-cp37-cp37m-manylinux1_x86_64.whl (20.1 MB)\n",
            "\u001b[K     |████████████████████████████████| 20.1 MB 7.4 MB/s \n",
            "\u001b[?25hRequirement already satisfied: jupyter==1.0.0 in /usr/local/lib/python3.7/dist-packages (from d2l) (1.0.0)\n",
            "Requirement already satisfied: ipykernel in /usr/local/lib/python3.7/dist-packages (from jupyter==1.0.0->d2l) (4.10.1)\n",
            "Requirement already satisfied: notebook in /usr/local/lib/python3.7/dist-packages (from jupyter==1.0.0->d2l) (5.3.1)\n",
            "Requirement already satisfied: qtconsole in /usr/local/lib/python3.7/dist-packages (from jupyter==1.0.0->d2l) (5.2.2)\n",
            "Requirement already satisfied: jupyter-console in /usr/local/lib/python3.7/dist-packages (from jupyter==1.0.0->d2l) (5.2.0)\n",
            "Requirement already satisfied: nbconvert in /usr/local/lib/python3.7/dist-packages (from jupyter==1.0.0->d2l) (5.6.1)\n",
            "Requirement already satisfied: ipywidgets in /usr/local/lib/python3.7/dist-packages (from jupyter==1.0.0->d2l) (7.6.5)\n",
            "Requirement already satisfied: python-dateutil>=2.1 in /usr/local/lib/python3.7/dist-packages (from matplotlib==3.3.3->d2l) (2.8.2)\n",
            "Requirement already satisfied: pyparsing!=2.0.4,!=2.1.2,!=2.1.6,>=2.0.3 in /usr/local/lib/python3.7/dist-packages (from matplotlib==3.3.3->d2l) (3.0.6)\n",
            "Requirement already satisfied: kiwisolver>=1.0.1 in /usr/local/lib/python3.7/dist-packages (from matplotlib==3.3.3->d2l) (1.3.2)\n",
            "Requirement already satisfied: cycler>=0.10 in /usr/local/lib/python3.7/dist-packages (from matplotlib==3.3.3->d2l) (0.11.0)\n",
            "Requirement already satisfied: pillow>=6.2.0 in /usr/local/lib/python3.7/dist-packages (from matplotlib==3.3.3->d2l) (7.1.2)\n",
            "Requirement already satisfied: pytz>=2017.3 in /usr/local/lib/python3.7/dist-packages (from pandas==1.2.2->d2l) (2018.9)\n",
            "Requirement already satisfied: idna<3,>=2.5 in /usr/local/lib/python3.7/dist-packages (from requests==2.25.1->d2l) (2.10)\n",
            "Requirement already satisfied: certifi>=2017.4.17 in /usr/local/lib/python3.7/dist-packages (from requests==2.25.1->d2l) (2021.10.8)\n",
            "Requirement already satisfied: urllib3<1.27,>=1.21.1 in /usr/local/lib/python3.7/dist-packages (from requests==2.25.1->d2l) (1.24.3)\n",
            "Requirement already satisfied: chardet<5,>=3.0.2 in /usr/local/lib/python3.7/dist-packages (from requests==2.25.1->d2l) (3.0.4)\n",
            "Requirement already satisfied: six>=1.5 in /usr/local/lib/python3.7/dist-packages (from python-dateutil>=2.1->matplotlib==3.3.3->d2l) (1.15.0)\n",
            "Requirement already satisfied: tornado>=4.0 in /usr/local/lib/python3.7/dist-packages (from ipykernel->jupyter==1.0.0->d2l) (5.1.1)\n",
            "Requirement already satisfied: ipython>=4.0.0 in /usr/local/lib/python3.7/dist-packages (from ipykernel->jupyter==1.0.0->d2l) (5.5.0)\n",
            "Requirement already satisfied: jupyter-client in /usr/local/lib/python3.7/dist-packages (from ipykernel->jupyter==1.0.0->d2l) (5.3.5)\n",
            "Requirement already satisfied: traitlets>=4.1.0 in /usr/local/lib/python3.7/dist-packages (from ipykernel->jupyter==1.0.0->d2l) (5.1.1)\n",
            "Requirement already satisfied: pickleshare in /usr/local/lib/python3.7/dist-packages (from ipython>=4.0.0->ipykernel->jupyter==1.0.0->d2l) (0.7.5)\n",
            "Requirement already satisfied: pygments in /usr/local/lib/python3.7/dist-packages (from ipython>=4.0.0->ipykernel->jupyter==1.0.0->d2l) (2.6.1)\n",
            "Requirement already satisfied: decorator in /usr/local/lib/python3.7/dist-packages (from ipython>=4.0.0->ipykernel->jupyter==1.0.0->d2l) (4.4.2)\n",
            "Requirement already satisfied: simplegeneric>0.8 in /usr/local/lib/python3.7/dist-packages (from ipython>=4.0.0->ipykernel->jupyter==1.0.0->d2l) (0.8.1)\n",
            "Requirement already satisfied: setuptools>=18.5 in /usr/local/lib/python3.7/dist-packages (from ipython>=4.0.0->ipykernel->jupyter==1.0.0->d2l) (57.4.0)\n",
            "Requirement already satisfied: prompt-toolkit<2.0.0,>=1.0.4 in /usr/local/lib/python3.7/dist-packages (from ipython>=4.0.0->ipykernel->jupyter==1.0.0->d2l) (1.0.18)\n",
            "Requirement already satisfied: pexpect in /usr/local/lib/python3.7/dist-packages (from ipython>=4.0.0->ipykernel->jupyter==1.0.0->d2l) (4.8.0)\n",
            "Requirement already satisfied: wcwidth in /usr/local/lib/python3.7/dist-packages (from prompt-toolkit<2.0.0,>=1.0.4->ipython>=4.0.0->ipykernel->jupyter==1.0.0->d2l) (0.2.5)\n",
            "Requirement already satisfied: nbformat>=4.2.0 in /usr/local/lib/python3.7/dist-packages (from ipywidgets->jupyter==1.0.0->d2l) (5.1.3)\n",
            "Requirement already satisfied: jupyterlab-widgets>=1.0.0 in /usr/local/lib/python3.7/dist-packages (from ipywidgets->jupyter==1.0.0->d2l) (1.0.2)\n",
            "Requirement already satisfied: widgetsnbextension~=3.5.0 in /usr/local/lib/python3.7/dist-packages (from ipywidgets->jupyter==1.0.0->d2l) (3.5.2)\n",
            "Requirement already satisfied: ipython-genutils~=0.2.0 in /usr/local/lib/python3.7/dist-packages (from ipywidgets->jupyter==1.0.0->d2l) (0.2.0)\n",
            "Requirement already satisfied: jsonschema!=2.5.0,>=2.4 in /usr/local/lib/python3.7/dist-packages (from nbformat>=4.2.0->ipywidgets->jupyter==1.0.0->d2l) (4.3.3)\n",
            "Requirement already satisfied: jupyter-core in /usr/local/lib/python3.7/dist-packages (from nbformat>=4.2.0->ipywidgets->jupyter==1.0.0->d2l) (4.9.1)\n",
            "Requirement already satisfied: importlib-resources>=1.4.0 in /usr/local/lib/python3.7/dist-packages (from jsonschema!=2.5.0,>=2.4->nbformat>=4.2.0->ipywidgets->jupyter==1.0.0->d2l) (5.4.0)\n",
            "Requirement already satisfied: attrs>=17.4.0 in /usr/local/lib/python3.7/dist-packages (from jsonschema!=2.5.0,>=2.4->nbformat>=4.2.0->ipywidgets->jupyter==1.0.0->d2l) (21.4.0)\n",
            "Requirement already satisfied: typing-extensions in /usr/local/lib/python3.7/dist-packages (from jsonschema!=2.5.0,>=2.4->nbformat>=4.2.0->ipywidgets->jupyter==1.0.0->d2l) (3.10.0.2)\n",
            "Requirement already satisfied: pyrsistent!=0.17.0,!=0.17.1,!=0.17.2,>=0.14.0 in /usr/local/lib/python3.7/dist-packages (from jsonschema!=2.5.0,>=2.4->nbformat>=4.2.0->ipywidgets->jupyter==1.0.0->d2l) (0.18.0)\n",
            "Requirement already satisfied: importlib-metadata in /usr/local/lib/python3.7/dist-packages (from jsonschema!=2.5.0,>=2.4->nbformat>=4.2.0->ipywidgets->jupyter==1.0.0->d2l) (4.10.0)\n",
            "Requirement already satisfied: zipp>=3.1.0 in /usr/local/lib/python3.7/dist-packages (from importlib-resources>=1.4.0->jsonschema!=2.5.0,>=2.4->nbformat>=4.2.0->ipywidgets->jupyter==1.0.0->d2l) (3.7.0)\n",
            "Requirement already satisfied: terminado>=0.8.1 in /usr/local/lib/python3.7/dist-packages (from notebook->jupyter==1.0.0->d2l) (0.12.1)\n",
            "Requirement already satisfied: jinja2 in /usr/local/lib/python3.7/dist-packages (from notebook->jupyter==1.0.0->d2l) (2.11.3)\n",
            "Requirement already satisfied: Send2Trash in /usr/local/lib/python3.7/dist-packages (from notebook->jupyter==1.0.0->d2l) (1.8.0)\n",
            "Requirement already satisfied: pyzmq>=13 in /usr/local/lib/python3.7/dist-packages (from jupyter-client->ipykernel->jupyter==1.0.0->d2l) (22.3.0)\n",
            "Requirement already satisfied: ptyprocess in /usr/local/lib/python3.7/dist-packages (from terminado>=0.8.1->notebook->jupyter==1.0.0->d2l) (0.7.0)\n",
            "Requirement already satisfied: MarkupSafe>=0.23 in /usr/local/lib/python3.7/dist-packages (from jinja2->notebook->jupyter==1.0.0->d2l) (2.0.1)\n",
            "Requirement already satisfied: mistune<2,>=0.8.1 in /usr/local/lib/python3.7/dist-packages (from nbconvert->jupyter==1.0.0->d2l) (0.8.4)\n",
            "Requirement already satisfied: pandocfilters>=1.4.1 in /usr/local/lib/python3.7/dist-packages (from nbconvert->jupyter==1.0.0->d2l) (1.5.0)\n",
            "Requirement already satisfied: bleach in /usr/local/lib/python3.7/dist-packages (from nbconvert->jupyter==1.0.0->d2l) (4.1.0)\n",
            "Requirement already satisfied: entrypoints>=0.2.2 in /usr/local/lib/python3.7/dist-packages (from nbconvert->jupyter==1.0.0->d2l) (0.3)\n",
            "Requirement already satisfied: testpath in /usr/local/lib/python3.7/dist-packages (from nbconvert->jupyter==1.0.0->d2l) (0.5.0)\n",
            "Requirement already satisfied: defusedxml in /usr/local/lib/python3.7/dist-packages (from nbconvert->jupyter==1.0.0->d2l) (0.7.1)\n",
            "Requirement already satisfied: packaging in /usr/local/lib/python3.7/dist-packages (from bleach->nbconvert->jupyter==1.0.0->d2l) (21.3)\n",
            "Requirement already satisfied: webencodings in /usr/local/lib/python3.7/dist-packages (from bleach->nbconvert->jupyter==1.0.0->d2l) (0.5.1)\n",
            "Requirement already satisfied: qtpy in /usr/local/lib/python3.7/dist-packages (from qtconsole->jupyter==1.0.0->d2l) (2.0.0)\n",
            "Installing collected packages: numpy, requests, pandas, matplotlib, d2l\n",
            "  Attempting uninstall: numpy\n",
            "    Found existing installation: numpy 1.19.5\n",
            "    Uninstalling numpy-1.19.5:\n",
            "      Successfully uninstalled numpy-1.19.5\n",
            "  Attempting uninstall: requests\n",
            "    Found existing installation: requests 2.23.0\n",
            "    Uninstalling requests-2.23.0:\n",
            "      Successfully uninstalled requests-2.23.0\n",
            "  Attempting uninstall: pandas\n",
            "    Found existing installation: pandas 1.1.5\n",
            "    Uninstalling pandas-1.1.5:\n",
            "      Successfully uninstalled pandas-1.1.5\n",
            "  Attempting uninstall: matplotlib\n",
            "    Found existing installation: matplotlib 3.2.2\n",
            "    Uninstalling matplotlib-3.2.2:\n",
            "      Successfully uninstalled matplotlib-3.2.2\n",
            "\u001b[31mERROR: pip's dependency resolver does not currently take into account all the packages that are installed. This behaviour is the source of the following dependency conflicts.\n",
            "google-colab 1.0.0 requires pandas~=1.1.0; python_version >= \"3.0\", but you have pandas 1.2.2 which is incompatible.\n",
            "google-colab 1.0.0 requires requests~=2.23.0, but you have requests 2.25.1 which is incompatible.\n",
            "datascience 0.10.6 requires folium==0.2.1, but you have folium 0.8.3 which is incompatible.\n",
            "albumentations 0.1.12 requires imgaug<0.2.7,>=0.2.5, but you have imgaug 0.2.9 which is incompatible.\u001b[0m\n",
            "Successfully installed d2l-0.17.3 matplotlib-3.3.3 numpy-1.18.5 pandas-1.2.2 requests-2.25.1\n"
          ]
        },
        {
          "output_type": "display_data",
          "data": {
            "application/vnd.colab-display-data+json": {
              "pip_warning": {
                "packages": [
                  "matplotlib",
                  "mpl_toolkits",
                  "numpy",
                  "pandas"
                ]
              }
            }
          },
          "metadata": {}
        }
      ],
      "source": [
        "!pip install d2l"
      ]
    },
    {
      "cell_type": "markdown",
      "source": [
        "# **Convolutional Neural Networks (LeNet)**\n",
        "\n",
        "https://d2l.ai/chapter_convolutional-neural-networks/lenet.html#"
      ],
      "metadata": {
        "id": "adIUSilntUvV"
      }
    },
    {
      "cell_type": "markdown",
      "source": [
        "In this section, we will introduce LeNet, among the first published CNNs to capture wide attention for its performance on computer vision tasks. The model was introduced by (and named for) Yann LeCun, then a researcher at AT&T Bell Labs, for the purpose of recognizing handwritten digits in images"
      ],
      "metadata": {
        "id": "zAIKIfMotWLo"
      }
    },
    {
      "cell_type": "markdown",
      "source": [
        "At the time LeNet achieved outstanding results matching the performance of support vector machines, then a dominant approach in supervised learning. LeNet was eventually adapted to recognize digits for processing deposits in ATM machines."
      ],
      "metadata": {
        "id": "AuU-1dy-tjgY"
      }
    },
    {
      "cell_type": "markdown",
      "source": [
        "Now that we have a handle on convolutional layers, we can retain the spatial structure in our images. As an additional benefit of replacing fully-connected layers with convolutional layers, we will enjoy more parsimonious models that require far fewer parameters."
      ],
      "metadata": {
        "id": "Qd7bq8qftlnf"
      }
    },
    {
      "cell_type": "markdown",
      "source": [
        "In this section, we will introduce LeNet, among the first published CNNs to capture wide attention for its performance on computer vision tasks. The model was introduced by (and named for) Yann LeCun, then a researcher at AT&T Bell Labs, for the purpose of recognizing handwritten digits in images :cite:LeCun.Bottou.Bengio.ea.1998.\n",
        "\n",
        "This work represented the culmination of a decade of research developing the technology. In 1989, LeCun published the first study to successfully train CNNs via backpropagation.\n",
        "\n",
        "At the time LeNet achieved outstanding results matching the performance of support vector machines, then a dominant approach in supervised learning.\n",
        "\n",
        "LeNet was eventually adapted to recognize digits for processing deposits in ATM machines."
      ],
      "metadata": {
        "id": "QXpwWB2YtnUY"
      }
    },
    {
      "cell_type": "markdown",
      "source": [
        "**6.6.1 LeNet**"
      ],
      "metadata": {
        "id": "7wi2mXG5tyLk"
      }
    },
    {
      "cell_type": "markdown",
      "source": [
        "At a high level, (LeNet (LeNet-5) consists of two parts: (i) a convolutional encoder consisting of two convolutional layers; and (ii) a dense block consisting of three fully-connected layers); The architecture is summarized in :numref:"
      ],
      "metadata": {
        "id": "KSN7-17wuLD_"
      }
    },
    {
      "cell_type": "markdown",
      "source": [
        "![image.png]()![image.png](data:image/png;base64,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)"
      ],
      "metadata": {
        "id": "_n25dvN2uPFv"
      }
    },
    {
      "cell_type": "markdown",
      "source": [
        "The basic units in each convolutional block are a convolutional layer, a sigmoid activation function, and a subsequent average pooling operation. Note that while ReLUs and max-pooling work better, these discoveries had not yet been made in the 1990s. Each convolutional layer uses a  5×5  kernel and a sigmoid activation function. These layers map spatially arranged inputs to a number of two-dimensional feature maps, typically increasing the number of channels. The first convolutional layer has 6 output channels, while the second has 16. Each  2×2  pooling operation (stride 2) reduces dimensionality by a factor of  4  via spatial downsampling. The convolutional block emits an output with shape given by (batch size, number of channel, height, width)."
      ],
      "metadata": {
        "id": "7KvWFc-tuaeg"
      }
    },
    {
      "cell_type": "markdown",
      "source": [
        "In order to pass output from the convolutional block to the dense block, we must flatten each example in the minibatch. In other words, we take this four-dimensional input and transform it into the two-dimensional input expected by fully-connected layers: as a reminder, the two-dimensional representation that we desire uses the first dimension to index examples in the minibatch and the second to give the flat vector representation of each example. LeNet’s dense block has three fully-connected layers, with 120, 84, and 10 outputs, respectively. Because we are still performing classification, the 10-dimensional output layer corresponds to the number of possible output classes."
      ],
      "metadata": {
        "id": "J2w9U6Zuuf2P"
      }
    },
    {
      "cell_type": "markdown",
      "source": [
        "While getting to the point where you truly understand what is going on inside LeNet may have taken a bit of work, hopefully the following code snippet will convince you that implementing such models with modern deep learning frameworks is remarkably simple. We need only to instantiate a Sequential block and chain together the appropriate layers."
      ],
      "metadata": {
        "id": "CbO3pmH5uitS"
      }
    },
    {
      "cell_type": "code",
      "source": [
        "import torch\n",
        "from torch import nn\n",
        "from d2l import torch as d2l\n",
        "\n",
        "net = nn.Sequential(\n",
        "    nn.Conv2d(1, 6, kernel_size=5, padding=2), nn.Sigmoid(),\n",
        "    nn.AvgPool2d(kernel_size=2, stride=2),\n",
        "    nn.Conv2d(6, 16, kernel_size=5), nn.Sigmoid(),\n",
        "    nn.AvgPool2d(kernel_size=2, stride=2),\n",
        "    nn.Flatten(),\n",
        "    nn.Linear(16 * 5 * 5, 120), nn.Sigmoid(),\n",
        "    nn.Linear(120, 84), nn.Sigmoid(),\n",
        "    nn.Linear(84, 10))"
      ],
      "metadata": {
        "id": "CtgAI5PXukOt"
      },
      "execution_count": 2,
      "outputs": []
    },
    {
      "cell_type": "markdown",
      "source": [
        "We took a small liberty with the original model, removing the Gaussian activation in the final layer. Other than that, this network matches the original LeNet-5 architecture."
      ],
      "metadata": {
        "id": "zsNUCwdium2N"
      }
    },
    {
      "cell_type": "markdown",
      "source": [
        "By passing a single-channel (black and white)  image through the network and printing the output shape at each layer, we can [inspect the model] to make sure that its operations line up with what we expect from :numref:"
      ],
      "metadata": {
        "id": "M40DdCGquoFG"
      }
    },
    {
      "cell_type": "markdown",
      "source": [
        "![image.png](data:image/png;base64,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)"
      ],
      "metadata": {
        "id": "Y7yqIFTRuqRv"
      }
    },
    {
      "cell_type": "code",
      "source": [
        "X = torch.rand(size=(1, 1, 28, 28), dtype=torch.float32)\n",
        "for layer in net:\n",
        "    X = layer(X)\n",
        "    print(layer.__class__.__name__,'output shape: \\t',X.shape)"
      ],
      "metadata": {
        "colab": {
          "base_uri": "https://localhost:8080/"
        },
        "id": "BGyI4OJruvwu",
        "outputId": "64d7e27b-ee66-4d10-af6b-6e352e0989a1"
      },
      "execution_count": 3,
      "outputs": [
        {
          "output_type": "stream",
          "name": "stdout",
          "text": [
            "Conv2d output shape: \t torch.Size([1, 6, 28, 28])\n",
            "Sigmoid output shape: \t torch.Size([1, 6, 28, 28])\n",
            "AvgPool2d output shape: \t torch.Size([1, 6, 14, 14])\n",
            "Conv2d output shape: \t torch.Size([1, 16, 10, 10])\n",
            "Sigmoid output shape: \t torch.Size([1, 16, 10, 10])\n",
            "AvgPool2d output shape: \t torch.Size([1, 16, 5, 5])\n",
            "Flatten output shape: \t torch.Size([1, 400])\n",
            "Linear output shape: \t torch.Size([1, 120])\n",
            "Sigmoid output shape: \t torch.Size([1, 120])\n",
            "Linear output shape: \t torch.Size([1, 84])\n",
            "Sigmoid output shape: \t torch.Size([1, 84])\n",
            "Linear output shape: \t torch.Size([1, 10])\n"
          ]
        }
      ]
    },
    {
      "cell_type": "markdown",
      "source": [
        "Note that the height and width of the representation at each layer throughout the convolutional block is reduced (compared with the previous layer). The first convolutional layer uses 2 pixels of padding to compensate for the reduction in height and width that would otherwise result from using a  5×5  kernel. In contrast, the second convolutional layer forgoes padding, and thus the height and width are both reduced by 4 pixels. As we go up the stack of layers, the number of channels increases layer-over-layer from 1 in the input to 6 after the first convolutional layer and 16 after the second convolutional layer. However, each pooling layer halves the height and width. Finally, each fully-connected layer reduces dimensionality, finally emitting an output whose dimension matches the number of classes."
      ],
      "metadata": {
        "id": "9q7DjJ3Lu0Gx"
      }
    },
    {
      "cell_type": "markdown",
      "source": [
        "# **6.6.2. Training**"
      ],
      "metadata": {
        "id": "iJWaes1Lu7m9"
      }
    },
    {
      "cell_type": "markdown",
      "source": [
        "Now that we have implemented the model, let us [run an experiment to see how LeNet fares on Fashion-MNIST]."
      ],
      "metadata": {
        "id": "h83I9o0du8su"
      }
    },
    {
      "cell_type": "code",
      "source": [
        "batch_size = 256\n",
        "train_iter, test_iter = d2l.load_data_fashion_mnist(batch_size=batch_size)"
      ],
      "metadata": {
        "colab": {
          "base_uri": "https://localhost:8080/",
          "height": 496,
          "referenced_widgets": [
            "8fe84bc89a844966a417042cb6a1f261",
            "d56f793ffeb6429d905d4be1ba0146c7",
            "013c23b382b247499e8b85244f53f081",
            "e9f0988b608a4ec89c7dc3896f3001e9",
            "88c8bab05bf74c75bcb45b50e7ccf559",
            "f7aa03e520f04d52801658929ceecf98",
            "3f0a1404408444dba5c074f73279bfe5",
            "ca26b9c26efc422c8556865b9de8e9ae",
            "8e75782bfb0b422d8845ce8d286a119f",
            "816877dfed914d15a7d68b3525c9b3f6",
            "a96301889efc420b935068f1a0a98215",
            "21e8f99476a74459954b45242ac90b28",
            "1eb21e33d43546ab8e2d9c4f3d3363ff",
            "89d4c7a1fa8041dba54f98896cc8b5c8",
            "4af6fd90a9e8428eb382bd981333fa6b",
            "c8f33856456a4d969714af8fc7ba9a31",
            "192b779a3234406dbaa2925732076514",
            "46642147c4dc426a85d7d96491da74c0",
            "3407a0339712466dbe0d0ab1dca8d984",
            "9b65c000612e474f9710d733294bc75a",
            "625de8df928f441d85407ac48655b017",
            "d62f62f9121846a691b2fcc49bfe057b",
            "90d15ff7f7184236984310b987f87491",
            "52618298ab1b47e39c8e6f1c7203789b",
            "bdd2d8ba573645cdb4265dfcd2998ba1",
            "5e1e903f0529431581a33f523dc1f0ac",
            "2fa99fd95a66489684e20a1380a4f79b",
            "3160a1c03bce486898ca568baa419b7a",
            "7d4e90b2e8e54f60aec11040ef5dfd93",
            "d494e6b499f74948ae1f9e0d9220e120",
            "518bfda584a6481cb61849d9fbe50eb6",
            "360acb41c4394a0e8c0e853bde15ea4b",
            "cf2b05a638a74ccab7c63cd5cf7c1389",
            "2a795ab6083b49af8f2097e632fbeb67",
            "5c27a573c93c4f81b65044a1494b823c",
            "4f08598627ce4562aebc260384f04545",
            "e573f05281bd46ba9c335bea4d680d08",
            "7da15472c9bc4be7a048bb35ae924560",
            "bdc81ed3447e456ebbf13b0ab13f63dd",
            "14314417e15948728e50e8febc92edb4",
            "956a429a763a4b278a6ccdaa42d78645",
            "4e0a5e684ccc4cc6bff5b55612d0cf92",
            "4733211d926b46fb946a3752044d2683",
            "f23a6a4b77d643c88bebdbbf0a351bf2"
          ]
        },
        "id": "548iLOS8u_Au",
        "outputId": "0fbdb6e8-48c5-49d2-ad32-a4252d439c88"
      },
      "execution_count": 4,
      "outputs": [
        {
          "output_type": "stream",
          "name": "stdout",
          "text": [
            "Downloading http://fashion-mnist.s3-website.eu-central-1.amazonaws.com/train-images-idx3-ubyte.gz\n",
            "Downloading http://fashion-mnist.s3-website.eu-central-1.amazonaws.com/train-images-idx3-ubyte.gz to ../data/FashionMNIST/raw/train-images-idx3-ubyte.gz\n"
          ]
        },
        {
          "output_type": "display_data",
          "data": {
            "application/vnd.jupyter.widget-view+json": {
              "model_id": "8fe84bc89a844966a417042cb6a1f261",
              "version_minor": 0,
              "version_major": 2
            },
            "text/plain": [
              "  0%|          | 0/26421880 [00:00<?, ?it/s]"
            ]
          },
          "metadata": {}
        },
        {
          "output_type": "stream",
          "name": "stdout",
          "text": [
            "Extracting ../data/FashionMNIST/raw/train-images-idx3-ubyte.gz to ../data/FashionMNIST/raw\n",
            "\n",
            "Downloading http://fashion-mnist.s3-website.eu-central-1.amazonaws.com/train-labels-idx1-ubyte.gz\n",
            "Downloading http://fashion-mnist.s3-website.eu-central-1.amazonaws.com/train-labels-idx1-ubyte.gz to ../data/FashionMNIST/raw/train-labels-idx1-ubyte.gz\n"
          ]
        },
        {
          "output_type": "display_data",
          "data": {
            "application/vnd.jupyter.widget-view+json": {
              "model_id": "21e8f99476a74459954b45242ac90b28",
              "version_minor": 0,
              "version_major": 2
            },
            "text/plain": [
              "  0%|          | 0/29515 [00:00<?, ?it/s]"
            ]
          },
          "metadata": {}
        },
        {
          "output_type": "stream",
          "name": "stdout",
          "text": [
            "Extracting ../data/FashionMNIST/raw/train-labels-idx1-ubyte.gz to ../data/FashionMNIST/raw\n",
            "\n",
            "Downloading http://fashion-mnist.s3-website.eu-central-1.amazonaws.com/t10k-images-idx3-ubyte.gz\n",
            "Downloading http://fashion-mnist.s3-website.eu-central-1.amazonaws.com/t10k-images-idx3-ubyte.gz to ../data/FashionMNIST/raw/t10k-images-idx3-ubyte.gz\n"
          ]
        },
        {
          "output_type": "display_data",
          "data": {
            "application/vnd.jupyter.widget-view+json": {
              "model_id": "90d15ff7f7184236984310b987f87491",
              "version_minor": 0,
              "version_major": 2
            },
            "text/plain": [
              "  0%|          | 0/4422102 [00:00<?, ?it/s]"
            ]
          },
          "metadata": {}
        },
        {
          "output_type": "stream",
          "name": "stdout",
          "text": [
            "Extracting ../data/FashionMNIST/raw/t10k-images-idx3-ubyte.gz to ../data/FashionMNIST/raw\n",
            "\n",
            "Downloading http://fashion-mnist.s3-website.eu-central-1.amazonaws.com/t10k-labels-idx1-ubyte.gz\n",
            "Downloading http://fashion-mnist.s3-website.eu-central-1.amazonaws.com/t10k-labels-idx1-ubyte.gz to ../data/FashionMNIST/raw/t10k-labels-idx1-ubyte.gz\n"
          ]
        },
        {
          "output_type": "display_data",
          "data": {
            "application/vnd.jupyter.widget-view+json": {
              "model_id": "2a795ab6083b49af8f2097e632fbeb67",
              "version_minor": 0,
              "version_major": 2
            },
            "text/plain": [
              "  0%|          | 0/5148 [00:00<?, ?it/s]"
            ]
          },
          "metadata": {}
        },
        {
          "output_type": "stream",
          "name": "stdout",
          "text": [
            "Extracting ../data/FashionMNIST/raw/t10k-labels-idx1-ubyte.gz to ../data/FashionMNIST/raw\n",
            "\n"
          ]
        },
        {
          "output_type": "stream",
          "name": "stderr",
          "text": [
            "/usr/local/lib/python3.7/dist-packages/torch/utils/data/dataloader.py:481: UserWarning: This DataLoader will create 4 worker processes in total. Our suggested max number of worker in current system is 2, which is smaller than what this DataLoader is going to create. Please be aware that excessive worker creation might get DataLoader running slow or even freeze, lower the worker number to avoid potential slowness/freeze if necessary.\n",
            "  cpuset_checked))\n"
          ]
        }
      ]
    },
    {
      "cell_type": "markdown",
      "source": [
        "While CNNs have fewer parameters, they can still be more expensive to compute than similarly deep MLPs because each parameter participates in many more multiplications. If you have access to a GPU, this might be a good time to put it into action to speed up training."
      ],
      "metadata": {
        "id": "uq-ElSvPvHY1"
      }
    },
    {
      "cell_type": "markdown",
      "source": [
        "For evaluation, we need to make a slight modification to the evaluate_accuracy function that we described in Section 3.6. Since the full dataset is in the main memory, we need to copy it to the GPU memory before the model uses GPU to compute with the dataset."
      ],
      "metadata": {
        "id": "kvE7r46uvLSl"
      }
    },
    {
      "cell_type": "code",
      "source": [
        "def evaluate_accuracy_gpu(net, data_iter, device=None):  #@save\n",
        "    \"\"\"Compute the accuracy for a model on a dataset using a GPU.\"\"\"\n",
        "    if not device:  # Query the first device where the first parameter is on\n",
        "        device = list(net.collect_params().values())[0].list_ctx()[0]\n",
        "    # No. of correct predictions, no. of predictions\n",
        "    metric = d2l.Accumulator(2)\n",
        "    for X, y in data_iter:\n",
        "        X, y = X.as_in_ctx(device), y.as_in_ctx(device)\n",
        "        metric.add(d2l.accuracy(net(X), y), d2l.size(y))\n",
        "    return metric[0] / metric[1]"
      ],
      "metadata": {
        "id": "DhIQHIr7vOJF"
      },
      "execution_count": 5,
      "outputs": []
    },
    {
      "cell_type": "markdown",
      "source": [
        "We also need to update our training function to deal with GPUs. Unlike the train_epoch_ch3 defined in Section 3.6, we now need to move each minibatch of data to our designated device (hopefully, the GPU) prior to making the forward and backward propagations."
      ],
      "metadata": {
        "id": "6irnkURdvQ3z"
      }
    },
    {
      "cell_type": "markdown",
      "source": [
        "The training function train_ch6 is also similar to train_ch3 defined in Section 3.6. Since we will be implementing networks with many layers going forward, we will rely primarily on high-level APIs. The following training function assumes a model created from high-level APIs as input and is optimized accordingly. We initialize the model parameters on the device indicated by the device argument, using Xavier initialization as introduced in Section 4.8.2.2. Just as with MLPs, our loss function is cross-entropy, and we minimize it via minibatch stochastic gradient descent. Since each epoch takes tens of seconds to run, we visualize the training loss more frequently."
      ],
      "metadata": {
        "id": "7wd3-IPCvRht"
      }
    },
    {
      "cell_type": "code",
      "source": [
        "#@save\n",
        "def train_ch6(net, train_iter, test_iter, num_epochs, lr, device):\n",
        "    \"\"\"Train a model with a GPU (defined in Chapter 6).\"\"\"\n",
        "    net.initialize(force_reinit=True, ctx=device, init=init.Xavier())\n",
        "    loss = gluon.loss.SoftmaxCrossEntropyLoss()\n",
        "    trainer = gluon.Trainer(net.collect_params(),\n",
        "                            'sgd', {'learning_rate': lr})\n",
        "    animator = d2l.Animator(xlabel='epoch', xlim=[1, num_epochs],\n",
        "                            legend=['train loss', 'train acc', 'test acc'])\n",
        "    timer, num_batches = d2l.Timer(), len(train_iter)\n",
        "    for epoch in range(num_epochs):\n",
        "        # Sum of training loss, sum of training accuracy, no. of examples\n",
        "        metric = d2l.Accumulator(3)\n",
        "        for i, (X, y) in enumerate(train_iter):\n",
        "            timer.start()\n",
        "            # Here is the major difference from `d2l.train_epoch_ch3`\n",
        "            X, y = X.as_in_ctx(device), y.as_in_ctx(device)\n",
        "            with autograd.record():\n",
        "                y_hat = net(X)\n",
        "                l = loss(y_hat, y)\n",
        "            l.backward()\n",
        "            trainer.step(X.shape[0])\n",
        "            metric.add(l.sum(), d2l.accuracy(y_hat, y), X.shape[0])\n",
        "            timer.stop()\n",
        "            train_l = metric[0] / metric[2]\n",
        "            train_acc = metric[1] / metric[2]\n",
        "            if (i + 1) % (num_batches // 5) == 0 or i == num_batches - 1:\n",
        "                animator.add(epoch + (i + 1) / num_batches,\n",
        "                             (train_l, train_acc, None))\n",
        "        test_acc = evaluate_accuracy_gpu(net, test_iter)\n",
        "        animator.add(epoch + 1, (None, None, test_acc))\n",
        "    print(f'loss {train_l:.3f}, train acc {train_acc:.3f}, '\n",
        "          f'test acc {test_acc:.3f}')\n",
        "    print(f'{metric[2] * num_epochs / timer.sum():.1f} examples/sec '\n",
        "          f'on {str(device)}')"
      ],
      "metadata": {
        "id": "-v8UIAs_vTEH"
      },
      "execution_count": 6,
      "outputs": []
    },
    {
      "cell_type": "markdown",
      "source": [
        "**Now let us train and evaluate the LeNet-5 model.**"
      ],
      "metadata": {
        "id": "cRG7oRtqva34"
      }
    },
    {
      "cell_type": "code",
      "source": [
        "lr, num_epochs = 0.9, 10\n",
        "train_ch6(net, train_iter, test_iter, num_epochs, lr, d2l.try_gpu())"
      ],
      "metadata": {
        "colab": {
          "base_uri": "https://localhost:8080/",
          "height": 380
        },
        "id": "cKYx1Yh5vpcv",
        "outputId": "6957c1ba-bfc8-41b1-cc72-f0375a5c207c"
      },
      "execution_count": 9,
      "outputs": [
        {
          "output_type": "error",
          "ename": "AttributeError",
          "evalue": "ignored",
          "traceback": [
            "\u001b[0;31m---------------------------------------------------------------------------\u001b[0m",
            "\u001b[0;31mAttributeError\u001b[0m                            Traceback (most recent call last)",
            "\u001b[0;32m<ipython-input-9-710f237563c5>\u001b[0m in \u001b[0;36m<module>\u001b[0;34m()\u001b[0m\n\u001b[1;32m      1\u001b[0m \u001b[0mlr\u001b[0m\u001b[0;34m,\u001b[0m \u001b[0mnum_epochs\u001b[0m \u001b[0;34m=\u001b[0m \u001b[0;36m0.9\u001b[0m\u001b[0;34m,\u001b[0m \u001b[0;36m10\u001b[0m\u001b[0;34m\u001b[0m\u001b[0;34m\u001b[0m\u001b[0m\n\u001b[0;32m----> 2\u001b[0;31m \u001b[0mtrain_ch6\u001b[0m\u001b[0;34m(\u001b[0m\u001b[0mnet\u001b[0m\u001b[0;34m,\u001b[0m \u001b[0mtrain_iter\u001b[0m\u001b[0;34m,\u001b[0m \u001b[0mtest_iter\u001b[0m\u001b[0;34m,\u001b[0m \u001b[0mnum_epochs\u001b[0m\u001b[0;34m,\u001b[0m \u001b[0mlr\u001b[0m\u001b[0;34m,\u001b[0m \u001b[0md2l\u001b[0m\u001b[0;34m.\u001b[0m\u001b[0mtry_gpu\u001b[0m\u001b[0;34m(\u001b[0m\u001b[0;34m)\u001b[0m\u001b[0;34m)\u001b[0m\u001b[0;34m\u001b[0m\u001b[0;34m\u001b[0m\u001b[0m\n\u001b[0m",
            "\u001b[0;32m<ipython-input-6-9b4f5408ec5c>\u001b[0m in \u001b[0;36mtrain_ch6\u001b[0;34m(net, train_iter, test_iter, num_epochs, lr, device)\u001b[0m\n\u001b[1;32m      2\u001b[0m \u001b[0;32mdef\u001b[0m \u001b[0mtrain_ch6\u001b[0m\u001b[0;34m(\u001b[0m\u001b[0mnet\u001b[0m\u001b[0;34m,\u001b[0m \u001b[0mtrain_iter\u001b[0m\u001b[0;34m,\u001b[0m \u001b[0mtest_iter\u001b[0m\u001b[0;34m,\u001b[0m \u001b[0mnum_epochs\u001b[0m\u001b[0;34m,\u001b[0m \u001b[0mlr\u001b[0m\u001b[0;34m,\u001b[0m \u001b[0mdevice\u001b[0m\u001b[0;34m)\u001b[0m\u001b[0;34m:\u001b[0m\u001b[0;34m\u001b[0m\u001b[0;34m\u001b[0m\u001b[0m\n\u001b[1;32m      3\u001b[0m     \u001b[0;34m\"\"\"Train a model with a GPU (defined in Chapter 6).\"\"\"\u001b[0m\u001b[0;34m\u001b[0m\u001b[0;34m\u001b[0m\u001b[0m\n\u001b[0;32m----> 4\u001b[0;31m     \u001b[0mnet\u001b[0m\u001b[0;34m.\u001b[0m\u001b[0minitialize\u001b[0m\u001b[0;34m(\u001b[0m\u001b[0mforce_reinit\u001b[0m\u001b[0;34m=\u001b[0m\u001b[0;32mTrue\u001b[0m\u001b[0;34m,\u001b[0m \u001b[0mctx\u001b[0m\u001b[0;34m=\u001b[0m\u001b[0mdevice\u001b[0m\u001b[0;34m,\u001b[0m \u001b[0minit\u001b[0m\u001b[0;34m=\u001b[0m\u001b[0minit\u001b[0m\u001b[0;34m.\u001b[0m\u001b[0mXavier\u001b[0m\u001b[0;34m(\u001b[0m\u001b[0;34m)\u001b[0m\u001b[0;34m)\u001b[0m\u001b[0;34m\u001b[0m\u001b[0;34m\u001b[0m\u001b[0m\n\u001b[0m\u001b[1;32m      5\u001b[0m     \u001b[0mloss\u001b[0m \u001b[0;34m=\u001b[0m \u001b[0mgluon\u001b[0m\u001b[0;34m.\u001b[0m\u001b[0mloss\u001b[0m\u001b[0;34m.\u001b[0m\u001b[0mSoftmaxCrossEntropyLoss\u001b[0m\u001b[0;34m(\u001b[0m\u001b[0;34m)\u001b[0m\u001b[0;34m\u001b[0m\u001b[0;34m\u001b[0m\u001b[0m\n\u001b[1;32m      6\u001b[0m     trainer = gluon.Trainer(net.collect_params(),\n",
            "\u001b[0;32m/usr/local/lib/python3.7/dist-packages/torch/nn/modules/module.py\u001b[0m in \u001b[0;36m__getattr__\u001b[0;34m(self, name)\u001b[0m\n\u001b[1;32m   1176\u001b[0m                 \u001b[0;32mreturn\u001b[0m \u001b[0mmodules\u001b[0m\u001b[0;34m[\u001b[0m\u001b[0mname\u001b[0m\u001b[0;34m]\u001b[0m\u001b[0;34m\u001b[0m\u001b[0;34m\u001b[0m\u001b[0m\n\u001b[1;32m   1177\u001b[0m         raise AttributeError(\"'{}' object has no attribute '{}'\".format(\n\u001b[0;32m-> 1178\u001b[0;31m             type(self).__name__, name))\n\u001b[0m\u001b[1;32m   1179\u001b[0m \u001b[0;34m\u001b[0m\u001b[0m\n\u001b[1;32m   1180\u001b[0m     \u001b[0;32mdef\u001b[0m \u001b[0m__setattr__\u001b[0m\u001b[0;34m(\u001b[0m\u001b[0mself\u001b[0m\u001b[0;34m,\u001b[0m \u001b[0mname\u001b[0m\u001b[0;34m:\u001b[0m \u001b[0mstr\u001b[0m\u001b[0;34m,\u001b[0m \u001b[0mvalue\u001b[0m\u001b[0;34m:\u001b[0m \u001b[0mUnion\u001b[0m\u001b[0;34m[\u001b[0m\u001b[0mTensor\u001b[0m\u001b[0;34m,\u001b[0m \u001b[0;34m'Module'\u001b[0m\u001b[0;34m]\u001b[0m\u001b[0;34m)\u001b[0m \u001b[0;34m->\u001b[0m \u001b[0;32mNone\u001b[0m\u001b[0;34m:\u001b[0m\u001b[0;34m\u001b[0m\u001b[0;34m\u001b[0m\u001b[0m\n",
            "\u001b[0;31mAttributeError\u001b[0m: 'Sequential' object has no attribute 'initialize'"
          ]
        }
      ]
    },
    {
      "cell_type": "markdown",
      "source": [
        "# **6.6.3. Summary**"
      ],
      "metadata": {
        "id": "b2UzeRbTvv7M"
      }
    },
    {
      "cell_type": "markdown",
      "source": [
        "\n",
        "\n",
        "*   A CNN is a network that employs convolutional layers.\n",
        "*   In a CNN, we interleave convolutions, nonlinearities, and (often) pooling operations.\n",
        "\n",
        "\n",
        "*   In a CNN, convolutional layers are typically arranged so that they gradually decrease the spatial resolution of the representations, while increasing the number of channels.\n",
        "*   In traditional CNNs, the representations encoded by the convolutional blocks are processed by one or more fully-connected layers prior to emitting output.\n",
        "\n",
        "\n",
        "\n",
        "*   LeNet was arguably the first successful deployment of such a network.\n",
        "\n",
        "\n",
        "\n",
        "\n",
        "\n",
        "\n",
        "\n",
        "\n"
      ],
      "metadata": {
        "id": "R0JAjSx9vxcE"
      }
    },
    {
      "cell_type": "markdown",
      "source": [
        "# **6.6.4. Exercises**"
      ],
      "metadata": {
        "id": "fhn06-JiwHmV"
      }
    },
    {
      "cell_type": "markdown",
      "source": [
        "\n",
        "\n",
        "1.   Replace the average pooling with maximum pooling. What happens?\n",
        "2.   Try to construct a more complex network based on LeNet to improve its accuracy.\n",
        "    *  Adjust the convolution window size.\n",
        "    *   Adjust the number of output channels.\n",
        "    * Adjust the activation function (e.g.,  ReLU).\n",
        "    * Adjust the number of convolution layers.\n",
        "    * Adjust the number of fully connected layers.\n",
        "    * Adjust the learning rates and other training details (e.g., initialization and number of epochs.)\n",
        "\n",
        "\n",
        "3.   Try out the improved network on the original MNIST dataset.\n",
        "4.   Display the activations of the first and second layer of LeNet for different inputs (e.g., sweaters and coats).\n",
        "\n",
        "\n",
        "\n",
        "\n",
        "\n",
        "\n",
        "\n"
      ],
      "metadata": {
        "id": "SauPRMxhwLmU"
      }
    }
  ]
}